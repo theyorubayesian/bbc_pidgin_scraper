{
 "cells": [
  {
   "cell_type": "code",
   "execution_count": 6,
   "metadata": {},
   "outputs": [],
   "source": [
    "import requests\n",
    "import yaml\n",
    "from bs4 import BeautifulSoup\n",
    "import itertools"
   ]
  },
  {
   "cell_type": "code",
   "execution_count": 2,
   "metadata": {},
   "outputs": [],
   "source": [
    "def get_page_soup(url: str) -> BeautifulSoup:\n",
    "    \"\"\"\n",
    "    Makes a request to a url and creates a beautiful soup oject from the response html\n",
    "\n",
    "    input:\n",
    "        :param url: input page url\n",
    "    returns:\n",
    "        - page_soup: beautiful soup oject from the response html\n",
    "    \"\"\"\n",
    "\n",
    "    response = requests.get(url)\n",
    "    page_html = response.text\n",
    "    page_soup = BeautifulSoup(page_html, \"html.parser\")\n",
    "\n",
    "    return page_soup"
   ]
  },
  {
   "cell_type": "code",
   "execution_count": 5,
   "metadata": {},
   "outputs": [],
   "source": [
    "CONFIG = yaml.load(open(\"config.yml\"), Loader=yaml.FullLoader)\n",
    "ALL_CATEGORIES = CONFIG[\"CATEGORY_URLS\"]"
   ]
  },
  {
   "cell_type": "code",
   "execution_count": 7,
   "metadata": {},
   "outputs": [],
   "source": [
    "def get_article_data(article_url:str):\n",
    "    \"\"\"\n",
    "    Obtains paragraphs texts and headlines input url article\n",
    "\n",
    "    input:\n",
    "        :param article_url: category_page\n",
    "    returns:\n",
    "        - headline: headline of url article \n",
    "        - story_text: text of url article\n",
    "        - article_url: input article url\n",
    "    \"\"\"\n",
    "    page_soup = get_page_soup(article_url)\n",
    "\n",
    "    headline = page_soup.find(\n",
    "        \"h1\", attrs={\"class\": CONFIG[\"HEADLINE_SPAN_CLASS_A\"]}\n",
    "        )\n",
    "    # by inspection, if the headline is not in the class above, it should be in the one below\n",
    "    # TODO: Investigate if this is still necessary\n",
    "    if not headline:\n",
    "        headline = page_soup.find(\n",
    "            \"strong\", attrs={\"class\": CONFIG[\"HEADLINE_SPAN_CLASS_B\"]}\n",
    "            )\n",
    "    \n",
    "    if headline:\n",
    "        headline = headline.text.strip()\n",
    "    \n",
    "    story_text = \" \"\n",
    "    story_div = page_soup.find_all(\n",
    "        \"div\", attrs={\"class\": CONFIG[\"STORY_DIV_CLASS\"]}\n",
    "        )\n",
    "    if story_div:\n",
    "        all_paragraphs = [div.findAll(\"p\", recursive=False) for div in story_div]\n",
    "        all_paragraphs = list(itertools.chain(*all_paragraphs))\n",
    "        story_text = story_text.join(str(paragraph) for paragraph in all_paragraphs)\n",
    "        story_text = BeautifulSoup(story_text, \"html.parser\").get_text()\n",
    "    story_text = story_text if not story_text == \" \" else None\n",
    "\n",
    "    return (headline, story_text, article_url)\n"
   ]
  },
  {
   "cell_type": "code",
   "execution_count": 3,
   "metadata": {},
   "outputs": [],
   "source": [
    "soup = get_page_soup(\"https://www.bbc.com/amharic/news-61369467\")"
   ]
  },
  {
   "cell_type": "code",
   "execution_count": 8,
   "metadata": {},
   "outputs": [
    {
     "data": {
      "text/plain": [
       "(None,\n",
       " 'የንግድ እና ቀጠናዊ ትሥሥር ሚኒስቴር በዓለም አቀፍ ደረጃ የነዳጅ ዋጋ መናሩን በምክንያትነት በመጥቀስ ከአራት ወራት በፊት ባወጣው የዋጋ ተመን ላይ ከዛሬ ሚያዝያ 30፣ 2014 ዓ.ም ጀምሮ ተግባራዊ የሚደረግ ማሻሻያ ማድረጉን አስታውቋል። ሚኒስቴሩ ባወጣው መግለጫ መንግሥት ባለፉት አራት ወራት የነዳጅ ዋጋን ለመደጎም ባወጣው ወጪ ከፍተኛ ጫና ላይ መውደቁን ያተተ ሲሆን \"በነዳጅ ማረጋጊያ ፈንድ ላይ በወር በአማካይ ወደ ተጠቃሚው መተላለፍ የነበረበት 10 ቢሊዮን ብር ጉድለት እንዲመዘገብ\" አድርጓል ሲል አክሏል። በዚህም ምክንያት ከዛሬ ጀምሮ በአዲስ አበባ የነዳጅ ምርቶች የችርቻሮ መሸጫ ዋጋ ላይ ለውጥ ተደርጓል።  ቤንዚን በሊትር 36 ብር ከ87 ሳንቲም፣ ነጭ ናፍጣ በሊትር 35 ብር ከ43 ሳንቲም፣ ኬሮሲን በሊትር 35 ብር ከ43 ሳንቲም፣ ቀላል ጥቁር ናፍጣ በሊትር 52 ብር ከ45 ሳንቲም፣ ከባድ ጥቁር ናፍጣ በሊትር 51 ብር ከ78 ሳንቲም እንዲሁም የአውሮፕላን ነዳጅ በሊትር 78 ብር ከ87 ሳንቲም ሆኖ እንደሚሸጥ መወሰኑንም ነው ሚኒስቴሩ የገለጸው። ዛሬ ተግባራዊ ከሚደረገው የተመን ማሻሻያ በፊት ኢትዮጵያ በተያዘው ዓመት ታህሳስ ወር ላይ የነዳጅ ምርቶች ዋጋ ላይ ጭማሪ አድርጋ ነበር። የንግድ እና ቀጠናዊ ትሥሥር ሚኒስቴር በነዚህ አራት ወራቶች ውስጥ የነዳጅ ዋጋ በዓለም አቀፍ ደረጃ \"በከፍተኛ ሁኔታ\" መጨመሩን ገልጿል።  በዚህም በታኅሣሥ ወር ቤንዚን በሜትሪክ ቶን 870 የአሜሪካን ዶላር ይሸጥ እንደነበር ጠቅሶ ከአራት ወራት በኋላ ዋጋው በ27 በመቶ በመጨመር 1028 የአሜሪካ ዶላር መግባቱን አስታውሷል።  በተመሳሳይ ናፍጣ በሜትሪክ ቶን 730 የአሜሪካን ዶላር ይሸጥ ከነበረበት በ55 በመቶ ወይም በ408 ዶላር ጭማሪ በማሳየት ወደ 1138 የአሜሪካን ዶላር ማሻቀቡን አውስቷል። ሚኒስቴሩ በመግለጫው መንግሥት ለነዳጅ የሚያደርገውን ድጎማ ቢያቆም በአዲስ አበባ አንድ ሊትር ናፍጣ 73 ብር እንዲሁም የአንድ ሊትር ቤንዚን ዋጋ 66 ብር ከ78 ሳንቲም ይሆን ነበር ብሏል።  \"ሆኖም ሀገሪቱ ያለችበትን ነባራዊ ሁኔታ ታሳቢ በማድረግ ከዓለም መሸጫ ዋጋ ልዩነትን 85 በመቶ የሚሆነውን ጫና መንግሥት በመሸከም ቀሪውን 15 በመቶ ለተጠቃሚው እንዲተላለፍ በመወሰን የነዳጅ ምርቶች የችርቻሮ መሸጫ ዋጋ ላይ መጠነኛ ክለሳ\" ማድረጉን አሳውቋል። የነዳጅ ዋጋ በታህሳስ እና ሚያዚያ ምን ያህል ልዩነት አለው? መንግስት በታህሳስ ወር 2014 ዓ.ም በዓለም አቀፍ ደረጃ የነዳጅ ዋጋ መጨመሩን በመግለጽ ጭማሪ ማድረጉን አስታውቆ ነበር። ለመሆኑ ከታህሳስ እስከ ሚያዚያ መገባደጃ በኢትዮጵያ የነዳጅ ዋጋ በምን ያህል ጫማሪ አሳየ? በዋጋ ጭማሪው እንደ ጥቁር ናፋጣ ያሉ ምርቶች በሊትር እስከ 121 በመቶ ጭማሪ ወይም እስከ 28 ብር ያሻቀቡ ሲሆን ዝቅተኛው የዋጋ ማሻሻያ ጣሪያ ቤኒዝን ላይ የተደረገው ሲሆን የ15 በመቶ ጭማሪ የታየበት ነው። በታህሳስ ወር ቤንዚን ላይ በተደረገ የዋጋ ማስተካከያ በሊትር 31 ብር ከ74 ሳንቲም እንዲሸጥ ተወስኖ የነበረ ሲሆን በአዲሱ ተመን መሰረት በሊትር 36 ብር ከ87 ሳንቲም ይሸጣል። በዚህ መሰረት የቤንዚን ዋጋ በ15 በመቶ ወይም በ4 ብር ከ87 ሳንቲም ጫማሪ አሳይቷል። በሌላ በኩል ከአራት ወራት በፊት ነጭ ናፍጣ በሊትር 28 ብር ከ94 ሳንቲም እንዲሸጥ ነበር የተወሰነው። አሁን ላይ  ነጭ ናፍጣ በ22 በመቶ ወይም በ6 ብር ከ49 ሳንቲም በመጨመር በሊትር 35 ብር ከ43 ሳንቲም ይሸጣል። ነጭ ጋዝ ወይም ኬሮሲን እስከ ትላንትና ድረስ 28 ብር ከ94 ሳንቲም የተሸጠ ሲሆን ዛሬ ስራ ላይ በሚውለው ተመን በሊትር 35 ብር ከ43 ሳንቲም ይሸጣል። ይህም የ22 በመቶ ወይም 6 ብር ከ49 ሳንቲም ጭማሪ የታየበት ነው። ቀላል ጥቁር ናፍጣ በታህሳስ ወር የወጣለት ተመን 23 ብር ከ73 ሳንቲም የነበረ ሲሆን በአዲሱ የመሸጫ ዋጋ በ121 በመቶ ወይም 28 ብር 72 ጨምሮ በሊትር 52 ብር ከ45 ሳንቲም እንዲሸጥ ተወስኗል።  ይህ በተመሳሳይ የከባድ ጥቁር ናፍጣም ዋጋ በ121 በመቶ ወይም 28 ብር 49 በማሻቀብ እስከትላንት በሊትር ሲሸጥበት ከነበረው 23 ብር ከ29 ሳንቲም ወደ 51 ብር ከ78 ከፍ ብሏል። የከባድ እና ቀላል ናፍጣ ዋጋ ማሻሻያ ከሌሎቹ የነዳጅ አይነቶች እጅግ ከፍተኛው ሆኖ የሚታይ ነው። የአውሮፕላን ነዳጅ ደግሞ በሊትር ከ58 ብር ከ77 ሳንቲም ወደ 78 ብር ከ87 ሳንቲም ያሻቀበ ሲሆን የ33 በመቶ ወይም 20 ብር ጭማሪ አሳይቷል። የነዳጅ ምርቶች የዋጋ ጭማሪ በአራት ወራት ውስጥ - በሊትር',\n",
       " 'https://www.bbc.com/amharic/news-61369467')"
      ]
     },
     "execution_count": 8,
     "metadata": {},
     "output_type": "execute_result"
    }
   ],
   "source": [
    "get_article_data(\"https://www.bbc.com/amharic/news-61369467\")"
   ]
  },
  {
   "cell_type": "code",
   "execution_count": 7,
   "metadata": {},
   "outputs": [
    {
     "data": {
      "text/plain": [
       "'2022-05-04'"
      ]
     },
     "execution_count": 7,
     "metadata": {},
     "output_type": "execute_result"
    }
   ],
   "source": [
    "soup.find(\"time\", attrs={\"class\": \"bbc-1bnmgo0 e4zesg50\"}).get(\"datetime\")"
   ]
  },
  {
   "cell_type": "code",
   "execution_count": 8,
   "metadata": {},
   "outputs": [],
   "source": [
    "from datetime import datetime"
   ]
  },
  {
   "cell_type": "code",
   "execution_count": 24,
   "metadata": {},
   "outputs": [
    {
     "data": {
      "text/plain": [
       "False"
      ]
     },
     "execution_count": 24,
     "metadata": {},
     "output_type": "execute_result"
    }
   ],
   "source": [
    "datetime.strptime('2021-02-01', '%Y-%m-%d') <= datetime.strptime('2021-01-31', '%Y-%m-%d')"
   ]
  },
  {
   "cell_type": "code",
   "execution_count": 9,
   "metadata": {},
   "outputs": [
    {
     "ename": "TypeError",
     "evalue": "an integer is required (got type str)",
     "output_type": "error",
     "traceback": [
      "\u001b[0;31m---------------------------------------------------------------------------\u001b[0m",
      "\u001b[0;31mTypeError\u001b[0m                                 Traceback (most recent call last)",
      "\u001b[1;32m/Users/theyorubayesian/Desktop/Work/Masters/bbc_pidgin_scraper/explore.ipynb Cell 6'\u001b[0m in \u001b[0;36m<cell line: 1>\u001b[0;34m()\u001b[0m\n\u001b[0;32m----> <a href='vscode-notebook-cell:/Users/theyorubayesian/Desktop/Work/Masters/bbc_pidgin_scraper/explore.ipynb#ch0000019?line=0'>1</a>\u001b[0m datetime(\u001b[39m*\u001b[39;49m\u001b[39m'\u001b[39;49m\u001b[39m2022-05-04\u001b[39;49m\u001b[39m'\u001b[39;49m\u001b[39m.\u001b[39;49msplit(\u001b[39m\"\u001b[39;49m\u001b[39m-\u001b[39;49m\u001b[39m\"\u001b[39;49m))\n",
      "\u001b[0;31mTypeError\u001b[0m: an integer is required (got type str)"
     ]
    }
   ],
   "source": [
    "datetime('2022-05-04'.split(\"-\"))"
   ]
  },
  {
   "cell_type": "code",
   "execution_count": 18,
   "metadata": {},
   "outputs": [
    {
     "data": {
      "text/plain": [
       "'40'"
      ]
     },
     "execution_count": 18,
     "metadata": {},
     "output_type": "execute_result"
    }
   ],
   "source": [
    "soup.find_all(\"ul\", attrs={\"class\": \"bbc-f8df6t e19602dz4\"})[0].find_all(\"li\")[-1].text"
   ]
  },
  {
   "cell_type": "code",
   "execution_count": 13,
   "metadata": {},
   "outputs": [],
   "source": [
    "def get_valid_urls(category_page:BeautifulSoup):\n",
    "    \"\"\"\n",
    "    Gets all valid urls from a category page\n",
    "\n",
    "    input:\n",
    "        :param: url: category_page\n",
    "    returns:\n",
    "        - valid_urls: list of all valid article urls on a given category page\n",
    "    \"\"\"\n",
    "    all_urls = category_page.findAll(\"a\")\n",
    "    valid_article_urls = []\n",
    "    for url in all_urls:\n",
    "        href: str = url.get(\"href\")\n",
    "        if (\n",
    "            href.startswith(\"/amharic/news\") or \n",
    "            href.startswith(\"/amharic/\") # or href.startswith(\"/pidgin/sport\")\n",
    "            ) and href[-1].isdigit() and not href.startswith(\"/amharic/topics\"):\n",
    "        #                stub[-1].isdigit():\n",
    "            story_url = \"https://www.bbc.com\" + href if href.startswith(\"/amharic\") else href\n",
    "            if \"live\" in story_url.split(\"/\"):\n",
    "                continue\n",
    "            valid_article_urls.append(story_url)\n",
    "\n",
    "    return list(set(valid_article_urls))"
   ]
  },
  {
   "cell_type": "code",
   "execution_count": 15,
   "metadata": {},
   "outputs": [
    {
     "data": {
      "text/plain": [
       "['https://www.bbc.com/amharic/news-61316845',\n",
       " 'https://www.bbc.com/amharic/news-61369017',\n",
       " 'https://www.bbc.com/amharic/news-61346541',\n",
       " 'https://www.bbc.com/amharic/news-61361343',\n",
       " 'https://www.bbc.com/amharic/news-61369467',\n",
       " 'https://www.bbc.com/amharic/news-61343985',\n",
       " 'https://www.bbc.com/amharic/news-61337371',\n",
       " 'https://www.bbc.com/amharic/news-61318619',\n",
       " 'https://www.bbc.com/amharic/news-61360852',\n",
       " 'https://www.bbc.com/amharic/news-61306677']"
      ]
     },
     "execution_count": 15,
     "metadata": {},
     "output_type": "execute_result"
    }
   ],
   "source": [
    "get_valid_urls(soup)"
   ]
  },
  {
   "cell_type": "code",
   "execution_count": 12,
   "metadata": {},
   "outputs": [],
   "source": [
    "all_urls = soup.findAll(\"a\")"
   ]
  },
  {
   "cell_type": "code",
   "execution_count": 14,
   "metadata": {},
   "outputs": [
    {
     "name": "stdout",
     "output_type": "stream",
     "text": [
      "/pidgin\n",
      "#content\n",
      "/pidgin\n",
      "/pidgin/topics/c2dwqd1zr92t\n",
      "/pidgin/topics/c404v061z85t\n",
      "/pidgin/topics/c0823e52dd0t\n",
      "/pidgin/media/video\n",
      "/pidgin/topics/cjgn7gv77vrt\n",
      "/pidgin/topics/cqywjyzk2vyt\n",
      "/pidgin/popular/read\n",
      "/pidgin\n",
      "/pidgin/topics/c2dwqd1zr92t\n",
      "/pidgin/topics/c404v061z85t\n",
      "/pidgin/topics/c0823e52dd0t\n",
      "/pidgin/media/video\n",
      "/pidgin/topics/cjgn7gv77vrt\n",
      "/pidgin/topics/cqywjyzk2vyt\n",
      "/pidgin/popular/read\n",
      "https://www.bbc.com/pidgin/media-61325497\n",
      "https://www.bbc.com/pidgin/tori-61083547\n",
      "https://www.bbc.com/pidgin/media-55222820\n",
      "https://www.bbc.com/pidgin/tori-61260173\n",
      "https://www.bbc.com/pidgin/media-61296844\n",
      "https://www.bbc.com/pidgin/live/world-61317733\n",
      "https://www.bbc.com/pidgin/tori-61247469\n",
      "https://www.bbc.com/pidgin/tori-61313923\n",
      "https://www.bbc.com/pidgin/tori-61296842\n",
      "https://www.bbc.com/pidgin/sport-61292477\n",
      "https://www.bbc.com/pidgin/tori-61296841\n",
      "https://www.bbc.com/pidgin/tori-61296382\n",
      "https://www.bbc.com/pidgin/tori-61287415\n",
      "https://www.bbc.com/pidgin/tori-61291330\n",
      "https://www.bbc.com/pidgin/world-61286970\n",
      "https://www.bbc.com/pidgin/tori-61283212\n",
      "https://www.bbc.com/pidgin/tori-61283209\n",
      "https://www.bbc.com/pidgin/tori-61275164\n",
      "https://www.bbc.com/pidgin/tori-61269129\n",
      "https://www.bbc.com/pidgin/tori-61269120\n",
      "https://www.bbc.com/pidgin/tori-61262381\n",
      "https://www.bbc.com/pidgin/61265089\n",
      "https://www.bbc.com/pidgin/tori-61261051\n",
      "https://www.bbc.com/pidgin/tori-61260168\n",
      "?page=1\n",
      "?page=2\n",
      "?page=3\n",
      "?page=4\n",
      "?page=5\n",
      "?page=6\n",
      "?page=7\n",
      "?page=40\n",
      "?page=2\n",
      "/pidgin\n",
      "https://www.bbc.com/pidgin/institutional-48528766\n",
      "https://www.bbc.co.uk/usingthebbc/terms/\n",
      "https://www.bbc.co.uk/aboutthebbc\n",
      "https://www.bbc.co.uk/usingthebbc/privacy/\n",
      "https://www.bbc.co.uk/usingthebbc/cookies/\n",
      "https://www.bbc.co.uk/pidgin/send/u50853577\n",
      "https://www.bbc.com/usingthebbc/cookies/how-does-the-bbc-use-cookies-for-advertising/\n",
      "https://www.bbc.co.uk/editorialguidelines/guidance/feeds-and-links\n"
     ]
    }
   ],
   "source": [
    "for url in all_urls:\n",
    "    href = url.get(\"href\")\n",
    "    print(href)"
   ]
  },
  {
   "cell_type": "code",
   "execution_count": 1,
   "metadata": {},
   "outputs": [],
   "source": [
    "import pandas as pd"
   ]
  },
  {
   "cell_type": "code",
   "execution_count": 3,
   "metadata": {},
   "outputs": [],
   "source": [
    "data = pd.read_csv(\"data/pidgin.tsv\", sep=\"\\t\")"
   ]
  },
  {
   "cell_type": "code",
   "execution_count": 4,
   "metadata": {},
   "outputs": [
    {
     "data": {
      "text/html": [
       "<div>\n",
       "<style scoped>\n",
       "    .dataframe tbody tr th:only-of-type {\n",
       "        vertical-align: middle;\n",
       "    }\n",
       "\n",
       "    .dataframe tbody tr th {\n",
       "        vertical-align: top;\n",
       "    }\n",
       "\n",
       "    .dataframe thead th {\n",
       "        text-align: right;\n",
       "    }\n",
       "</style>\n",
       "<table border=\"1\" class=\"dataframe\">\n",
       "  <thead>\n",
       "    <tr style=\"text-align: right;\">\n",
       "      <th></th>\n",
       "      <th>headline</th>\n",
       "      <th>text</th>\n",
       "      <th>category</th>\n",
       "      <th>url</th>\n",
       "    </tr>\n",
       "  </thead>\n",
       "  <tbody>\n",
       "    <tr>\n",
       "      <th>0</th>\n",
       "      <td>Chinedu Bernard: Nollywood actress die for chu...</td>\n",
       "      <td>Actors Guild of Nigeria don confam di death of...</td>\n",
       "      <td>NIGERIA</td>\n",
       "      <td>https://www.bbc.com/pidgin/tori-61283209</td>\n",
       "    </tr>\n",
       "    <tr>\n",
       "      <th>1</th>\n",
       "      <td>Khafi Kareem: UK police give written warning t...</td>\n",
       "      <td>UK police don give written warning to former B...</td>\n",
       "      <td>NIGERIA</td>\n",
       "      <td>https://www.bbc.com/pidgin/tori-61283212</td>\n",
       "    </tr>\n",
       "    <tr>\n",
       "      <th>2</th>\n",
       "      <td>Yul Edochie new wife Judy Austin: 'Yul make mi...</td>\n",
       "      <td>Di family of Yul Edochie don chook mouth for d...</td>\n",
       "      <td>NIGERIA</td>\n",
       "      <td>https://www.bbc.com/pidgin/tori-61269129</td>\n",
       "    </tr>\n",
       "    <tr>\n",
       "      <th>3</th>\n",
       "      <td>Indonesia ban export of palm oil: Wetin e mean...</td>\n",
       "      <td>Indonesia don ban export of any kind of palm o...</td>\n",
       "      <td>NIGERIA</td>\n",
       "      <td>https://www.bbc.com/pidgin/tori-61260168</td>\n",
       "    </tr>\n",
       "    <tr>\n",
       "      <th>4</th>\n",
       "      <td>Dog sleeping with human video: Wetin Nigeria l...</td>\n",
       "      <td>Nigeria police force tok-tok pesin Muyiwa Adej...</td>\n",
       "      <td>NIGERIA</td>\n",
       "      <td>https://www.bbc.com/pidgin/tori-61287415</td>\n",
       "    </tr>\n",
       "  </tbody>\n",
       "</table>\n",
       "</div>"
      ],
      "text/plain": [
       "                                            headline  \\\n",
       "0  Chinedu Bernard: Nollywood actress die for chu...   \n",
       "1  Khafi Kareem: UK police give written warning t...   \n",
       "2  Yul Edochie new wife Judy Austin: 'Yul make mi...   \n",
       "3  Indonesia ban export of palm oil: Wetin e mean...   \n",
       "4  Dog sleeping with human video: Wetin Nigeria l...   \n",
       "\n",
       "                                                text category  \\\n",
       "0  Actors Guild of Nigeria don confam di death of...  NIGERIA   \n",
       "1  UK police don give written warning to former B...  NIGERIA   \n",
       "2  Di family of Yul Edochie don chook mouth for d...  NIGERIA   \n",
       "3  Indonesia don ban export of any kind of palm o...  NIGERIA   \n",
       "4  Nigeria police force tok-tok pesin Muyiwa Adej...  NIGERIA   \n",
       "\n",
       "                                        url  \n",
       "0  https://www.bbc.com/pidgin/tori-61283209  \n",
       "1  https://www.bbc.com/pidgin/tori-61283212  \n",
       "2  https://www.bbc.com/pidgin/tori-61269129  \n",
       "3  https://www.bbc.com/pidgin/tori-61260168  \n",
       "4  https://www.bbc.com/pidgin/tori-61287415  "
      ]
     },
     "execution_count": 4,
     "metadata": {},
     "output_type": "execute_result"
    }
   ],
   "source": [
    "data.head()"
   ]
  },
  {
   "cell_type": "code",
   "execution_count": 6,
   "metadata": {},
   "outputs": [
    {
     "data": {
      "text/plain": [
       "183"
      ]
     },
     "execution_count": 6,
     "metadata": {},
     "output_type": "execute_result"
    }
   ],
   "source": [
    "data.duplicated(subset=\"url\").sum()"
   ]
  },
  {
   "cell_type": "code",
   "execution_count": 7,
   "metadata": {},
   "outputs": [],
   "source": [
    "deduplicated_data = data.drop_duplicates(subset=\"url\", keep=\"last\")"
   ]
  },
  {
   "cell_type": "code",
   "execution_count": 8,
   "metadata": {},
   "outputs": [
    {
     "data": {
      "text/plain": [
       "(841, 4)"
      ]
     },
     "execution_count": 8,
     "metadata": {},
     "output_type": "execute_result"
    }
   ],
   "source": [
    "deduplicated_data.shape"
   ]
  },
  {
   "cell_type": "code",
   "execution_count": 9,
   "metadata": {},
   "outputs": [
    {
     "data": {
      "text/plain": [
       "(1024, 4)"
      ]
     },
     "execution_count": 9,
     "metadata": {},
     "output_type": "execute_result"
    }
   ],
   "source": [
    "data.shape"
   ]
  },
  {
   "cell_type": "code",
   "execution_count": 10,
   "metadata": {},
   "outputs": [],
   "source": [
    "deduplicated_data.to_csv(\"pidgin_nigeria.tsv\", sep=\"\\t\", index=False)"
   ]
  },
  {
   "cell_type": "code",
   "execution_count": null,
   "metadata": {},
   "outputs": [],
   "source": []
  }
 ],
 "metadata": {
  "interpreter": {
   "hash": "a06fb409cd8accde12eca308b829b6bc7f6b27e9b3949911149ca64fef5bbc1f"
  },
  "kernelspec": {
   "display_name": "Python 3.8.10 ('env': venv)",
   "language": "python",
   "name": "python3"
  },
  "language_info": {
   "codemirror_mode": {
    "name": "ipython",
    "version": 3
   },
   "file_extension": ".py",
   "mimetype": "text/x-python",
   "name": "python",
   "nbconvert_exporter": "python",
   "pygments_lexer": "ipython3",
   "version": "3.8.10"
  },
  "orig_nbformat": 4
 },
 "nbformat": 4,
 "nbformat_minor": 2
}
